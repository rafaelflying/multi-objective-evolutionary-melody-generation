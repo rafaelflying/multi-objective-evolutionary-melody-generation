{
 "cells": [
  {
   "cell_type": "code",
   "execution_count": 127,
   "metadata": {},
   "outputs": [
    {
     "name": "stdout",
     "output_type": "stream",
     "text": [
      "11 8.0 2\n"
     ]
    }
   ],
   "source": [
    "import numpy as np\n",
    "\n",
    "initial_chord = [60, 64, 67, 71] #Defines by midi number the notes of the chord given by the user\n",
    "\n",
    "upper_time_signature = 4 #Indicates how many beats are grouped together in a measure(bar), value given by the user\n",
    "lower_time_signature = 4 #Indicates the note value that represents one beat, value given by the user \n",
    "\n",
    "#Silulating a melody created by the algorithm, p = picth and r = rhythm\n",
    "p = [60, 62, 64, 65, 67, 69, 71, 72, 74, 76, 77]\n",
    "r = [0.5, 0.5, 0.5, 0.5, 1.5, 0.5, 0.5, 0.5, 0.5, 0.5, 2.0]\n",
    "\n",
    "N = len(p)\n",
    "L = sum(r)\n",
    "\n",
    "M = int(L / upper_time_signature) #M defines the number of measures in the melody\n",
    "\n",
    "if lower_time_signature == 2:\n",
    "    beat = 2\n",
    "elif lower_time_signature == 4:\n",
    "    beat = 1\n",
    "elif lower_time_signature == 8:\n",
    "    beat = 0.5 \n",
    "\n",
    "print(N, L, M)#teste"
   ]
  },
  {
   "cell_type": "code",
   "execution_count": 128,
   "metadata": {},
   "outputs": [
    {
     "name": "stdout",
     "output_type": "stream",
     "text": [
      "0.375\n"
     ]
    }
   ],
   "source": [
    "#Here start the equation to define the fitness function on stability\n",
    "\n",
    "#Cn returns 1 when the note is a chord note, else 0\n",
    "#Eq.(4)\n",
    "def C(p):\n",
    "    return 1 if p in initial_chord else 0\n",
    "\n",
    "#CT calculates a fraction of CHORD TONES\n",
    "#Eq.(3)\n",
    "def CT(p, r):\n",
    "    list_CT = [] \n",
    "    for i in range(N):\n",
    "        num = C(p[i]) * r[i]\n",
    "        den = L\n",
    "        list_CT.append(num/den)\n",
    "    return sum(list_CT)\n",
    "\n",
    "\n",
    "print(CT(p, r))#teste"
   ]
  },
  {
   "cell_type": "code",
   "execution_count": 129,
   "metadata": {},
   "outputs": [
    {
     "name": "stdout",
     "output_type": "stream",
     "text": [
      "0.9999999999999999\n"
     ]
    }
   ],
   "source": [
    "#Eq.(6)\n",
    "def U(x): \n",
    "    return 1 if x>=0 else 0\n",
    "    \n",
    "#SM calculates te amount of step motion(midi value less than 2) in p\n",
    "#Asigns a higher score in the range of [0.0, 1.0] to the melody that contains more step motions. \n",
    "#Eq.(5)\n",
    "def SM(p):\n",
    "    list_SM = []\n",
    "    for i in range(N-1):\n",
    "        num = U(2 - abs(p[i] - p[i+1]))\n",
    "        den = N-1\n",
    "        list_SM.append(num/den)\n",
    "    return sum(list_SM)\n",
    "\n",
    "print(SM(p))#teste"
   ]
  },
  {
   "cell_type": "code",
   "execution_count": 130,
   "metadata": {},
   "outputs": [
    {
     "name": "stdout",
     "output_type": "stream",
     "text": [
      "0.0\n"
     ]
    }
   ],
   "source": [
    "#DL evaluates a fraction if three consecutive notes in descending lines of the pitch sequence p\n",
    "#Returns 1 only if the three successive notes are descending    \n",
    "#Eq.(7)\n",
    "def DL(p):\n",
    "    list_DL = []\n",
    "    for i in range(N-2):\n",
    "        num = U(p[i] - p[i+1] - 1) * U(p[i+1] - p[i+2] - 1)\n",
    "        den = N-2\n",
    "        list_DL.append(num/den)\n",
    "    return sum(list_DL)\n",
    "\n",
    "print(DL(p))#teste"
   ]
  },
  {
   "cell_type": "code",
   "execution_count": 131,
   "metadata": {},
   "outputs": [
    {
     "name": "stdout",
     "output_type": "stream",
     "text": [
      "[0.9999999999999999, 0.375, 0.0]\n",
      "-3196.25\n"
     ]
    }
   ],
   "source": [
    "#fitness_1 calculates which is the higher stability value and assigns it with alpha, beta, gamma\n",
    "#A higher fitness value presents a better melody in terms of stability\n",
    "#Eq.(2)\n",
    "def fitness_1(p, r, alpha=3.0, beta=2.0, gamma=1.0, delta=100.0):\n",
    "    list_fitness_1 = []\n",
    "    list_fitness_1.append(CT(p,r))\n",
    "    list_fitness_1.append(SM(p))\n",
    "    list_fitness_1.append(DL(p))\n",
    "    fitness_1_sorted = sorted(list_fitness_1, reverse = True)\n",
    "    print (fitness_1_sorted) #teste para ver a lista ordenada de maior para menor\n",
    "    \n",
    "    more_stability = fitness_1_sorted[0]\n",
    "    midle_stability = fitness_1_sorted[1]\n",
    "    less_stability = fitness_1_sorted[2]\n",
    "    \n",
    "    return ((alpha*more_stability) + (beta*midle_stability) + (gamma*less_stability)) - (delta*P(p, r))\n",
    "       \n",
    "print (fitness_1(p, r, alpha=3.0, beta=2.0, gamma=1.0, delta=100.0))#teste"
   ]
  },
  {
   "cell_type": "code",
   "execution_count": 132,
   "metadata": {},
   "outputs": [
    {
     "name": "stdout",
     "output_type": "stream",
     "text": [
      "0.625\n"
     ]
    }
   ],
   "source": [
    "#Here start the equation to define the fitness function on tension\n",
    "\n",
    "#NT computes a fraction of non-chord tone(notes that is not in initial_chord) of the melody\n",
    "#Eq.(9)\n",
    "def NT(p, r):\n",
    "    return 1.0 - CT(p, r)\n",
    "\n",
    "print (NT(p, r))#teste"
   ]
  },
  {
   "cell_type": "code",
   "execution_count": 133,
   "metadata": {},
   "outputs": [
    {
     "name": "stdout",
     "output_type": "stream",
     "text": [
      "0.7\n"
     ]
    }
   ],
   "source": [
    "#LM measures a ratio of skip motion(notes that are connected by a midi value higher than 2)\n",
    "#Returns 1 when two consecutive notes are connected by a skip motion\n",
    "#Thus, LM(p) returns a higher value when the pitch vector p is comprised of more skip motions\n",
    "#Eq.(10)\n",
    "def LM(p):\n",
    "    list_LM = []\n",
    "    for i in range(N-1):\n",
    "        num = U(abs(p[i] - p[i+1]) - 2)\n",
    "        den = N-1\n",
    "        list_LM.append(num/den)\n",
    "    return sum(list_LM)\n",
    "\n",
    "print (LM(p))#teste"
   ]
  },
  {
   "cell_type": "code",
   "execution_count": 134,
   "metadata": {},
   "outputs": [
    {
     "name": "stdout",
     "output_type": "stream",
     "text": [
      "1.0000000000000002\n"
     ]
    }
   ],
   "source": [
    "#AL evaluates a fraction of three successive notes in ascending lines (in contrast with DL(p))\n",
    "#Eq.(11)\n",
    "def AL(p):\n",
    "    list_AL = []\n",
    "    for i in range(N-2):\n",
    "        num = U(p[i+2] - p[i+1] - 1) * U(p[i+1] - p[i] - 1)\n",
    "        den = N-2\n",
    "        list_AL.append(num/den)\n",
    "    return sum(list_AL)\n",
    "\n",
    "print (AL(p))#teste"
   ]
  },
  {
   "cell_type": "code",
   "execution_count": 135,
   "metadata": {},
   "outputs": [
    {
     "name": "stdout",
     "output_type": "stream",
     "text": [
      "[1.0000000000000002, 0.7, 0.625]\n",
      "-3194.975\n"
     ]
    }
   ],
   "source": [
    "#fitness_2 calculates which is the higher tension value and assigns it with alpha, beta, gamma\n",
    "#A higher fitness value presents more instability on the melody\n",
    "#Eq.(8)\n",
    "def fitness_2(p, r, alpha=3.0, beta=2.0, gamma=1.0, delta=100.0):\n",
    "    list_fitness_2 = []\n",
    "    list_fitness_2.append(NT(p,r))\n",
    "    list_fitness_2.append(LM(p))\n",
    "    list_fitness_2.append(AL(p))\n",
    "    fitness_2_sorted = sorted(list_fitness_2, reverse = True)\n",
    "    print (fitness_2_sorted)#teste para ver a lista ordenada de maior para menor\n",
    "    \n",
    "    more_tension = fitness_2_sorted[0]\n",
    "    midle_tension = fitness_2_sorted[1]\n",
    "    less_tension = fitness_2_sorted[2]\n",
    "    \n",
    "    return ((alpha*more_tension) + (beta*midle_tension) + (gamma*less_tension)) - (delta*P(p, r)) \n",
    "    \n",
    "       \n",
    "print (fitness_2(p, r, alpha=3.0, beta=2.0, gamma=1.0, delta=100.0))#teste"
   ]
  },
  {
   "cell_type": "code",
   "execution_count": 136,
   "metadata": {},
   "outputs": [
    {
     "name": "stdout",
     "output_type": "stream",
     "text": [
      "[[0.5, 0.5, 0.5, 0.5, 1.5, 0.5], [0.5, 0.5, 0.5, 0.5, 2.0]]\n",
      "[[60, 62, 64, 65, 67, 69], [71, 72, 74, 76, 77]]\n"
     ]
    }
   ],
   "source": [
    "#This function defines and separates the measures in the melody\n",
    "\n",
    "def divide(rhythm_list, pitch_list, target):\n",
    "    # vamos começar a contagem da soma em zero\n",
    "    count = 0\n",
    "    count_beat = 0\n",
    "   \n",
    "    # aqui está a nossa lista com as \"fatias\" que queremos\n",
    "    full_melody_list = []\n",
    "    full_pitch_list = []\n",
    "    S_index = []\n",
    "   \n",
    "    # aqui fica uma measure\n",
    "    measure = []\n",
    "    measure_pitch = []\n",
    "    for i in range(len(rhythm_list)):\n",
    "        item = rhythm_list[i]\n",
    "        count += item # aqui somamos o nosso contador\n",
    "        measure.append(item) # adicionamos o item atual na lista da measure\n",
    "        measure_pitch.append(pitch_list[i])\n",
    "       \n",
    "        # quando o contador bate o target \"fecharemos\" o measure atual\n",
    "        # e prepararemos um novo measure e resetaremos o contador\n",
    "        if count >= target:\n",
    "            full_melody_list.append(measure)\n",
    "            full_pitch_list.append(measure_pitch)\n",
    "            measure = []\n",
    "            measure_pitch = []\n",
    "            count = 0\n",
    "           \n",
    "    return full_melody_list, full_pitch_list\n",
    "\n",
    "full_melody_list, full_pitch_list = divide(r, p, upper_time_signature)\n",
    "    \n",
    "print(full_melody_list)#teste\n",
    "print(full_pitch_list)#teste"
   ]
  },
  {
   "cell_type": "code",
   "execution_count": 137,
   "metadata": {},
   "outputs": [],
   "source": [
    "def get_s_index(full_melody_list, full_pitch_list):\n",
    "    number_measures = len(full_melody_list)\n",
    "    \n",
    "    # processando cada measure individualmente\n",
    "    current_lower_index = 0\n",
    "    S_index = np.array([])\n",
    "    \n",
    "    for i in range(number_measures):\n",
    "        current_pitch = np.array(full_pitch_list[i])\n",
    "        current_melody = np.array(full_melody_list[i])\n",
    "        \n",
    "        # 1a regra: soma dos primeiros rhythms não-negativos que alcancem o valor do beat\n",
    "        # pegando somente o índice dos pitches positivos\n",
    "        positive_pitch_indexes = np.argwhere(np.array(full_pitch_list[i]) > 0).flatten()\n",
    "        \n",
    "        # somando os rhythms desta measure até dar o beat\n",
    "        soma = np.cumsum(current_melody[positive_pitch_indexes])\n",
    "        threshold = np.argwhere(soma >= beat)[0][0]\n",
    "        S_index = np.append(np.array(range(threshold+1)) + current_lower_index, S_index)\n",
    "        \n",
    "        # 2a regra: considerar upper time signature\n",
    "        beats, _ = divide(full_melody_list[i], full_pitch_list[i], beat)\n",
    "        S_index = np.append(np.array(range(len(beats[0]))) + current_lower_index, S_index)\n",
    "        \n",
    "        if upper_time_signature == 4 or upper_time_signature == 6:\n",
    "            previous_beats = len(np.array(beats[:int(upper_time_signature/2)]).flatten())\n",
    "            len_current_beat = len(np.array(beats[int(upper_time_signature/2)]).flatten())\n",
    "            S_index = np.append(np.array(range(previous_beats, previous_beats + len_current_beat)) +\n",
    "                  current_lower_index, S_index)\n",
    "        current_lower_index += len(current_pitch)\n",
    "        \n",
    "    return np.unique(S_index).astype(int)\n",
    "\n",
    "S = get_s_index(full_melody_list, full_pitch_list)"
   ]
  },
  {
   "cell_type": "code",
   "execution_count": 138,
   "metadata": {
    "scrolled": true
   },
   "outputs": [
    {
     "name": "stdout",
     "output_type": "stream",
     "text": [
      "0\n"
     ]
    }
   ],
   "source": [
    "#Defining the rules on the plausible pleasant non-chord tones\n",
    "\n",
    "#Rule 1: Non-chord tone on the strong beat should move to a chord tone by a step motion\n",
    "\n",
    "#Eq.(14)\n",
    "def Nn(p): \n",
    "    return 1 if p not in initial_chord else 0\n",
    "    \n",
    "#UT measures the number of unresolved non-chord tones on the strong beats\n",
    "#S is a set of indices of the strong beats \n",
    "#Eq.(13)\n",
    "def UT(p):\n",
    "    list_UT = []\n",
    "    for i in S:\n",
    "        num = Nn(p[i])\n",
    "        if i != len(p) -1:\n",
    "            num *= (Nn(p[i+1]) + U(abs(p[i] - p[i+1])) - 2)\n",
    "        list_UT.append(num)\n",
    "    return sum(list_UT)\n",
    "        \n",
    "print (UT(p))#teste"
   ]
  },
  {
   "cell_type": "code",
   "execution_count": 139,
   "metadata": {},
   "outputs": [
    {
     "name": "stdout",
     "output_type": "stream",
     "text": [
      "8\n"
     ]
    }
   ],
   "source": [
    "#Rule 2: All non-chord tones should be connected with at least one adjacent chord tone by a step motion\n",
    "\n",
    "#Eq.(15)\n",
    "def NCC(p):\n",
    "    list_NCC = []\n",
    "    for i in range(N-1): #correction in the equation\n",
    "        num = (Nn(p[i])) * (Nn(p[i-1]) + U(abs(p[i-1] - p[i]) - 2)) * (Nn(p[i+1]) + U(abs(p[i] - p[i+1]) - 2))\n",
    "        list_NCC.append(num)\n",
    "    return sum(list_NCC)\n",
    "\n",
    "\n",
    "print (NCC(p))#teste"
   ]
  },
  {
   "cell_type": "code",
   "execution_count": 140,
   "metadata": {},
   "outputs": [
    {
     "name": "stdout",
     "output_type": "stream",
     "text": [
      "12\n"
     ]
    }
   ],
   "source": [
    "#Rule 3: Skip motion on the non-chord tones should not be over the third interval\n",
    "\n",
    "#NCL Captures the number of intervals which are greater than the third with an adjacent non-chord tone\n",
    "#Eq.(16)\n",
    "def NCL(p):\n",
    "    list_NCL = []\n",
    "    for i in range(N-1): #correction in the equation\n",
    "        num = Nn(p[i]) * (U(4 - abs(p[i-1] - p[i])) + U(4 - abs(p[i] - p[i+1])))\n",
    "        list_NCL.append(num)\n",
    "    return sum(list_NCL)\n",
    "\n",
    "print (NCL(p))#teste"
   ]
  },
  {
   "cell_type": "code",
   "execution_count": 141,
   "metadata": {},
   "outputs": [
    {
     "name": "stdout",
     "output_type": "stream",
     "text": [
      "20\n"
     ]
    }
   ],
   "source": [
    "#Here start the defining the penalty function\n",
    "\n",
    "#Minimizing MNC(p) can resolve a misused non-chord tones in the melody\n",
    "#Eq.(17)\n",
    "def MNC(p):\n",
    "    return UT(p) + NCC(p) + NCL(p)\n",
    "    \n",
    "print (MNC(p))#teste"
   ]
  },
  {
   "cell_type": "code",
   "execution_count": 142,
   "metadata": {},
   "outputs": [
    {
     "name": "stdout",
     "output_type": "stream",
     "text": [
      "1\n"
     ]
    }
   ],
   "source": [
    "#AN investigate the number o avoid notes over the strong beats\n",
    "#If both Nn(p[i]) and C(p[i] - 1) return 1, p[i] becomes a avoid note\n",
    "#Eq.(18)\n",
    "def AN(p):\n",
    "    list_AN = []\n",
    "    for i in S:\n",
    "        num = Nn(p[i]) * C(p[i] - 1)\n",
    "        list_AN.append(num)\n",
    "    return sum(list_AN)\n",
    "\n",
    "print (AN(p))#teste"
   ]
  },
  {
   "cell_type": "code",
   "execution_count": 143,
   "metadata": {},
   "outputs": [
    {
     "name": "stdout",
     "output_type": "stream",
     "text": [
      "0.375\n",
      "1\n"
     ]
    }
   ],
   "source": [
    "#ON counts the number of measures(i.e., bar) that contains more than 50% of non-chord tones\n",
    "\n",
    "#Eq.(19)\n",
    "\n",
    "D = 10\n",
    "        \n",
    "def ON2(p, r):\n",
    "    list_ON2 = []\n",
    "    for j in range(len(p)):\n",
    "        num = r[j] * C(p[j])\n",
    "        list_ON2.append(num/sum(r))\n",
    "    return sum(list_ON2)\n",
    "\n",
    "def ON(full_pitch_list, full_melody_list):\n",
    "    list_ON = []\n",
    "    for i in range(M):\n",
    "        num = U(0.5 - ON2(full_pitch_list[i], full_melody_list[i]))\n",
    "        list_ON.append(num)\n",
    "    return sum(list_ON)\n",
    "        \n",
    "\n",
    "print(ON2(p, r))#teste #Resultado da somatória dentro da Eq.(19)\n",
    "print(ON(full_pitch_list, full_melody_list))#teste #O resultado final é este"
   ]
  },
  {
   "cell_type": "code",
   "execution_count": 144,
   "metadata": {},
   "outputs": [
    {
     "name": "stdout",
     "output_type": "stream",
     "text": [
      "10\n"
     ]
    }
   ],
   "source": [
    "#BL(p) computes the number of over-leap intervals\n",
    "#Eq.(20)\n",
    "def BL(p):\n",
    "    list_BL = []\n",
    "    for i in range(N-1):\n",
    "        num = U(16 - abs(p[i] - p[i+1]))\n",
    "        list_BL.append(num)\n",
    "    return sum(list_BL)\n",
    "\n",
    "print (BL(p))#teste"
   ]
  },
  {
   "cell_type": "code",
   "execution_count": 145,
   "metadata": {},
   "outputs": [
    {
     "name": "stdout",
     "output_type": "stream",
     "text": [
      "32\n"
     ]
    }
   ],
   "source": [
    "#Final equation to calculate the penalty\n",
    "\n",
    "#Eq.(12)\n",
    "def P(p, r):\n",
    "    return ((MNC(p)) + (AN(p)) + (ON(full_pitch_list, full_melody_list)) + (BL(p))) \n",
    "    \n",
    "print(P(p, r))#teste"
   ]
  },
  {
   "cell_type": "code",
   "execution_count": null,
   "metadata": {},
   "outputs": [],
   "source": []
  }
 ],
 "metadata": {
  "kernelspec": {
   "display_name": "Python 3",
   "language": "python",
   "name": "python3"
  },
  "language_info": {
   "codemirror_mode": {
    "name": "ipython",
    "version": 3
   },
   "file_extension": ".py",
   "mimetype": "text/x-python",
   "name": "python",
   "nbconvert_exporter": "python",
   "pygments_lexer": "ipython3",
   "version": "3.8.5"
  }
 },
 "nbformat": 4,
 "nbformat_minor": 4
}
