{
 "cells": [
  {
   "cell_type": "raw",
   "metadata": {},
   "source": [
    "pip install -U pymoo"
   ]
  },
  {
   "cell_type": "code",
   "execution_count": 58,
   "metadata": {},
   "outputs": [],
   "source": [
    "initial_chord = [60, 64, 67, 71] #defines by midi number the notes of the chord given by the user\n",
    "\n",
    "#silulating a melody created by the algorithm\n",
    "p = [60, 62, 64, 65, 67, 69, 71, 72]\n",
    "r = [1.0, 0.5, 1.0, 0.5, 1.0, 0.5, 1.0, 1.0]"
   ]
  },
  {
   "cell_type": "code",
   "execution_count": 100,
   "metadata": {},
   "outputs": [
    {
     "name": "stdout",
     "output_type": "stream",
     "text": [
      "8\n",
      "6.5\n"
     ]
    }
   ],
   "source": [
    "#a higher fitness value presents a better melody in terms of stability\n",
    "def fitness_function_stability(CT, SM, DL, P):\n",
    "    return a*CT + b*SM + g*DL - d*P\n",
    "\n",
    "N = len(p)\n",
    "L = sum(r)\n",
    "\n",
    "\n",
    "print(N)#teste\n",
    "print(L)#teste"
   ]
  },
  {
   "cell_type": "code",
   "execution_count": 97,
   "metadata": {},
   "outputs": [
    {
     "name": "stdout",
     "output_type": "stream",
     "text": [
      "66.46153846153847\n"
     ]
    }
   ],
   "source": [
    "#CT calculates a fraction of CHORD TONES\n",
    "#vreturns 1 when the note is a chord note, else 0\n",
    "\n",
    "#def is_chord_tone(p):\n",
    "    #return 1 if p in initial_chord else 0\n",
    "\n",
    "def CT(p, r):\n",
    "    list_CT = [] \n",
    "    for i in range(N):\n",
    "        num = (p[i] * r[i])\n",
    "        den = L\n",
    "        list_CT.append(num/den)\n",
    "    return sum(list_CT)\n",
    "\n",
    "\n",
    "print(CT(p, r))#teste"
   ]
  },
  {
   "cell_type": "code",
   "execution_count": 101,
   "metadata": {},
   "outputs": [
    {
     "ename": "SyntaxError",
     "evalue": "invalid syntax (<ipython-input-101-a91ea47829e2>, line 7)",
     "output_type": "error",
     "traceback": [
      "\u001b[1;36m  File \u001b[1;32m\"<ipython-input-101-a91ea47829e2>\"\u001b[1;36m, line \u001b[1;32m7\u001b[0m\n\u001b[1;33m    den = 7\u001b[0m\n\u001b[1;37m    ^\u001b[0m\n\u001b[1;31mSyntaxError\u001b[0m\u001b[1;31m:\u001b[0m invalid syntax\n"
     ]
    }
   ],
   "source": [
    "#SM measures a fraction of step motion\n",
    "#returns 1 if notes are connected by a step motion, else 0\n",
    "\n",
    "#def U(x):\n",
    "    #return 1 if x >= 0 else 0\n",
    "\n",
    "def SM(p):\n",
    "    list_SM = []\n",
    "    for i in range(N-1):\n",
    "        num = (2 - abs(p[i] - p[i+1])\n",
    "        den = N-1\n",
    "        List_SM.append(num/den)\n",
    "    return sum(list_SM)\n",
    "               \n",
    "               \n",
    "print(SM(p))#teste"
   ]
  },
  {
   "cell_type": "code",
   "execution_count": 102,
   "metadata": {},
   "outputs": [
    {
     "name": "stdout",
     "output_type": "stream",
     "text": [
      "0\n"
     ]
    }
   ],
   "source": [
    "#DL evaluates a fraction if three consecutive notes in descending lines of the pitch sequence p\n",
    "#returns 1 only if the three successive notes are descending    \n",
    "def DL(p):\n",
    "    list_DL = []\n",
    "    for i in range(N-2):\n",
    "        num = (p[i] - p[i+1] - 1) * (p[i] - p[i+2] - 1) / N-2\n",
    "        den = N-2\n",
    "    return sum(list_DL)\n",
    "\n",
    "\n",
    "print(DL(p))#teste"
   ]
  },
  {
   "cell_type": "code",
   "execution_count": 105,
   "metadata": {},
   "outputs": [
    {
     "ename": "NameError",
     "evalue": "name 'a' is not defined",
     "output_type": "error",
     "traceback": [
      "\u001b[1;31m---------------------------------------------------------------------------\u001b[0m",
      "\u001b[1;31mNameError\u001b[0m                                 Traceback (most recent call last)",
      "\u001b[1;32m<ipython-input-105-41695683e60b>\u001b[0m in \u001b[0;36m<module>\u001b[1;34m\u001b[0m\n\u001b[0;32m     14\u001b[0m \u001b[1;33m\u001b[0m\u001b[0m\n\u001b[0;32m     15\u001b[0m \u001b[1;33m\u001b[0m\u001b[0m\n\u001b[1;32m---> 16\u001b[1;33m \u001b[0mprint\u001b[0m\u001b[1;33m(\u001b[0m\u001b[0ma\u001b[0m\u001b[1;33m,\u001b[0m \u001b[0mb\u001b[0m\u001b[1;33m,\u001b[0m \u001b[0mg\u001b[0m\u001b[1;33m)\u001b[0m\u001b[1;31m#teste\u001b[0m\u001b[1;33m\u001b[0m\u001b[1;33m\u001b[0m\u001b[0m\n\u001b[0m",
      "\u001b[1;31mNameError\u001b[0m: name 'a' is not defined"
     ]
    }
   ],
   "source": [
    "#the parametres of a,b,d are assigned 3.0, 2.0 and 1.0 in accordance with their contribution to the stability of melody\n",
    "def weight_values(CT, SM, DL):\n",
    "    list = (CT, SM, DL)\n",
    "    sorted = list.sort()\n",
    "    a = sorted[0]\n",
    "    b = sorted[1]\n",
    "    g = sorted[2]\n",
    "    \n",
    "    alpha = a*3.0\n",
    "    beta = b*2.0\n",
    "    gamma = d*1.0\n",
    "    \n",
    "    return alpha, beta, gamma"
   ]
  }
 ],
 "metadata": {
  "kernelspec": {
   "display_name": "Python 3",
   "language": "python",
   "name": "python3"
  },
  "language_info": {
   "codemirror_mode": {
    "name": "ipython",
    "version": 3
   },
   "file_extension": ".py",
   "mimetype": "text/x-python",
   "name": "python",
   "nbconvert_exporter": "python",
   "pygments_lexer": "ipython3",
   "version": "3.8.5"
  }
 },
 "nbformat": 4,
 "nbformat_minor": 4
}
